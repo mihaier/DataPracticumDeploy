{
 "cells": [
  {
   "cell_type": "code",
   "execution_count": 1,
   "metadata": {
    "_cell_guid": "b27524a0-8d75-9b0f-60b3-24f5b8b0b8df"
   },
   "outputs": [],
   "source": [
    "import numpy as np # linear algebra\n",
    "import pandas as pd # data processing, CSV file I/O (e.g. pd.read_csv)\n",
    "trainData = pd.read_csv('../data/train.csv')\n",
    "testData = pd.read_csv('../data/test.csv')\n",
    "trainData = trainData.drop('Id', axis=1)\n",
    "testData = testData.drop('Id', axis=1)"
   ]
  },
  {
   "cell_type": "code",
   "execution_count": 2,
   "metadata": {
    "_cell_guid": "13164536-7fa3-4f11-a5e2-b19a89037c06"
   },
   "outputs": [],
   "source": [
    "trainData['Open Date'] = pd.to_datetime(trainData['Open Date'], format='%m/%d/%Y')   \n",
    "testData['Open Date'] = pd.to_datetime(testData['Open Date'], format='%m/%d/%Y')\n",
    "\n",
    "trainData['OpenDays']=\"\"\n",
    "testData['OpenDays']=\"\"\n",
    "\n",
    "dateLastTrain = pd.DataFrame({'Date':np.repeat(['01/01/2015'],[len(trainData)]) })\n",
    "dateLastTrain['Date'] = pd.to_datetime(dateLastTrain['Date'], format='%m/%d/%Y')  \n",
    "dateLastTest = pd.DataFrame({'Date':np.repeat(['01/01/2015'],[len(testData)]) })\n",
    "dateLastTest['Date'] = pd.to_datetime(dateLastTest['Date'], format='%m/%d/%Y')  \n",
    "\n",
    "trainData['OpenDays'] = dateLastTrain['Date'] - trainData['Open Date']\n",
    "testData['OpenDays'] = dateLastTest['Date'] - testData['Open Date']\n",
    "\n",
    "trainData['OpenDays'] = trainData['OpenDays'].astype('timedelta64[D]').astype(int)\n",
    "testData['OpenDays'] = testData['OpenDays'].astype('timedelta64[D]').astype(int)\n",
    "\n",
    "trainData = trainData.drop('Open Date', axis=1)\n",
    "testData = testData.drop('Open Date', axis=1)"
   ]
  },
  {
   "cell_type": "code",
   "execution_count": 3,
   "metadata": {
    "_cell_guid": "b87afe7f-9a8a-79a7-4c4d-c9ac89ee3548"
   },
   "outputs": [],
   "source": [
    "cityPerc = trainData[[\"City Group\", \"revenue\"]].groupby(['City Group'],as_index=False).mean()\n",
    "#sns.barplot(x='City Group', y='revenue', data=cityPerc)\n",
    "\n",
    "citygroupDummy = pd.get_dummies(trainData['City Group'])\n",
    "trainData = trainData.join(citygroupDummy)\n",
    "\n",
    "citygroupDummyTest = pd.get_dummies(testData['City Group'])\n",
    "testData = testData.join(citygroupDummyTest)\n",
    "\n",
    "trainData = trainData.drop('City Group', axis=1)\n",
    "testData = testData.drop('City Group', axis=1)"
   ]
  },
  {
   "cell_type": "code",
   "execution_count": 4,
   "metadata": {
    "_cell_guid": "d6a7dad0-756d-af67-05b0-944433ac908f"
   },
   "outputs": [
    {
     "data": {
      "text/plain": "0.8673406746295929"
     },
     "execution_count": 4,
     "metadata": {},
     "output_type": "execute_result"
    }
   ],
   "source": [
    "#Regression on everything\n",
    "from sklearn.ensemble import RandomForestRegressor\n",
    "import matplotlib.pyplot as plt\n",
    "import seaborn as sns\n",
    "sns.set_context(\"notebook\", font_scale=1.1)\n",
    "sns.set_style(\"ticks\")\n",
    "\n",
    "import numpy\n",
    "xTrain = pd.DataFrame({'OpenDays':trainData['OpenDays'].apply(numpy.log),\n",
    "                      'Big Cities':trainData['Big Cities'], 'Other':trainData['Other'],\n",
    "                      'P2':trainData['P2'], 'P8':trainData['P8'], 'P22':trainData['P22'],\n",
    "                      'P24':trainData['P24'], 'P28':trainData['P28'], 'P26':trainData['P26']})\n",
    "#xTrain = trainData.drop(['revenue'], axis=1)\n",
    "#xTrain['OpenDays'] = xTrain['OpenDays'].apply(numpy.log)\n",
    "yTrain = trainData['revenue'].apply(numpy.log)\n",
    "xTest = pd.DataFrame({'OpenDays':testData['OpenDays'].apply(numpy.log),\n",
    "                      'Big Cities':testData['Big Cities'], 'Other':testData['Other'],\n",
    "                     'P2':testData['P2'], 'P8':testData['P8'], 'P22':testData['P22'],\n",
    "                      'P24':testData['P24'], 'P28':testData['P28'], 'P26':testData['P26']})\n",
    "\n",
    "from sklearn import linear_model\n",
    "\n",
    "cls = RandomForestRegressor(n_estimators=150)\n",
    "cls.fit(xTrain, yTrain)\n",
    "pred = cls.predict(xTest)\n",
    "pred = numpy.exp(pred)\n",
    "cls.score(xTrain, yTrain)"
   ]
  },
  {
   "cell_type": "code",
   "execution_count": 11,
   "outputs": [],
   "source": [
    "import pickle\n",
    "pickle.dump(cls,open('../models/df.pkt','wb'))"
   ],
   "metadata": {
    "collapsed": false,
    "pycharm": {
     "name": "#%%\n"
    }
   }
  },
  {
   "cell_type": "code",
   "execution_count": 12,
   "outputs": [],
   "source": [
    "lcls =  pickle.load(open('../models/df.pkt','rb'))"
   ],
   "metadata": {
    "collapsed": false,
    "pycharm": {
     "name": "#%%\n"
    }
   }
  },
  {
   "cell_type": "code",
   "execution_count": 14,
   "outputs": [],
   "source": [
    "pred = lcls.predict(xTest)"
   ],
   "metadata": {
    "collapsed": false,
    "pycharm": {
     "name": "#%%\n"
    }
   }
  },
  {
   "cell_type": "code",
   "execution_count": 16,
   "outputs": [],
   "source": [
    "import joblib\n"
   ],
   "metadata": {
    "collapsed": false,
    "pycharm": {
     "name": "#%%\n"
    }
   }
  },
  {
   "cell_type": "code",
   "execution_count": 19,
   "outputs": [
    {
     "data": {
      "text/plain": "['../models/rf.pkt']"
     },
     "execution_count": 19,
     "metadata": {},
     "output_type": "execute_result"
    }
   ],
   "source": [
    "joblib.dump(cls,'../models/rf.pkt',compress=9)"
   ],
   "metadata": {
    "collapsed": false,
    "pycharm": {
     "name": "#%%\n"
    }
   }
  },
  {
   "cell_type": "code",
   "execution_count": 5,
   "metadata": {
    "_cell_guid": "59a51d2c-b8be-96b1-0f3e-042950c6fffc"
   },
   "outputs": [],
   "source": [
    "pred = cls.predict(xTest)\n",
    "pred = numpy.exp(pred)"
   ]
  },
  {
   "cell_type": "code",
   "execution_count": 6,
   "metadata": {
    "_cell_guid": "31c28f3a-e5fd-db88-1432-5469a8f59b98"
   },
   "outputs": [
    {
     "data": {
      "text/plain": "array([3725459.1640634 , 3212787.74994705, 2287889.82855506, ...,\n       2633982.83377246, 2944176.37451712, 4898514.02951436])"
     },
     "execution_count": 6,
     "metadata": {},
     "output_type": "execute_result"
    }
   ],
   "source": []
  },
  {
   "cell_type": "code",
   "execution_count": 7,
   "metadata": {
    "_cell_guid": "d5a0d4cb-3cbc-66a7-a92a-b6fce928acfc"
   },
   "outputs": [],
   "source": [
    "pred2 = []\n",
    "for i in range(len(pred)):\n",
    "    if pred[i] != float('Inf'):\n",
    "        pred2.append(pred[i])\n",
    "\n",
    "m = sum(pred2) / float(len(pred2))\n",
    "\n",
    "for i in range(len(pred)):\n",
    "    if pred[i] == float('Inf'):\n",
    "        print(\"haha\")\n",
    "        pred[i] = m"
   ]
  },
  {
   "cell_type": "code",
   "execution_count": null,
   "metadata": {
    "_cell_guid": "b8c2863e-2f6a-44c6-19b3-5c491de76462"
   },
   "outputs": [],
   "source": [
    "testData = pd.read_csv(\"../input/test.csv\")\n",
    "submission = pd.DataFrame({\n",
    "        \"Id\": testData[\"Id\"],\n",
    "        \"Prediction\": pred\n",
    "    })\n",
    "submission.to_csv('RandomForestSimple.csv',header=True, index=False)"
   ]
  }
 ],
 "metadata": {
  "_change_revision": 56,
  "_is_fork": false,
  "kernelspec": {
   "display_name": "Python 3",
   "language": "python",
   "name": "python3"
  },
  "language_info": {
   "codemirror_mode": {
    "name": "ipython",
    "version": 3
   },
   "file_extension": ".py",
   "mimetype": "text/x-python",
   "name": "python",
   "nbconvert_exporter": "python",
   "pygments_lexer": "ipython3",
   "version": "3.5.2"
  }
 },
 "nbformat": 4,
 "nbformat_minor": 0
}